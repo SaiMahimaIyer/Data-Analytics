{
 "cells": [
  {
   "cell_type": "code",
   "execution_count": 1,
   "metadata": {},
   "outputs": [],
   "source": [
    "import cv2\n",
    "import numpy as np\n",
    "image=cv2.imread('/Users/mahima/Downloads/rose1.jpg',10)\n",
    "#cv2.imshow(\"original\",image)\n",
    "#cv2.waitKey(0)"
   ]
  },
  {
   "cell_type": "code",
   "execution_count": 2,
   "metadata": {},
   "outputs": [],
   "source": [
    "boundaries = [\n",
    "\t([17, 15, 100], [50, 56, 200]),\n",
    "    ( [18,50,50], [35,255,255]),\n",
    "\t([86, 31, 4], [220, 88, 50]),\n",
    "\t([25, 146, 190], [62, 174, 250]),\n",
    "\t([103, 86, 65], [145, 133, 128])\n",
    "    \n",
    "]\n"
   ]
  },
  {
   "cell_type": "code",
   "execution_count": null,
   "metadata": {},
   "outputs": [],
   "source": [
    "for (lower,upper) in boundaries:\n",
    "    lower=np.array(lower,dtype=\"uint8\")\n",
    "    upper=np.array(upper,dtype=\"uint8\")\n",
    "    mask=cv2.inRange(image,lower,upper)\n",
    "    output=cv2.bitwise_and(image,image,mask=mask)\n",
    "    cv2.imshow(\"mask\",mask)\n",
    "    cv2.imshow(\"images\",np.hstack([image,output]))\n",
    "    cv2.waitKey(0)"
   ]
  },
  {
   "cell_type": "code",
   "execution_count": null,
   "metadata": {},
   "outputs": [],
   "source": []
  }
 ],
 "metadata": {
  "kernelspec": {
   "display_name": "Python 2",
   "language": "python",
   "name": "python2"
  },
  "language_info": {
   "codemirror_mode": {
    "name": "ipython",
    "version": 2
   },
   "file_extension": ".py",
   "mimetype": "text/x-python",
   "name": "python",
   "nbconvert_exporter": "python",
   "pygments_lexer": "ipython2",
   "version": "2.7.16"
  }
 },
 "nbformat": 4,
 "nbformat_minor": 2
}
