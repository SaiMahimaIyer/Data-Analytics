{
 "cells": [
  {
   "cell_type": "code",
   "execution_count": 2,
   "metadata": {},
   "outputs": [],
   "source": [
    "%matplotlib inline\n",
    "import matplotlib.pyplot as plt\n",
    "import seaborn as sns; sns.set()\n",
    "import numpy as np"
   ]
  },
  {
   "cell_type": "code",
   "execution_count": 3,
   "metadata": {},
   "outputs": [],
   "source": [
    "\n",
    "X = [[1, 1], \n",
    "    [2,1],\n",
    "    [2,2],\n",
    "    [3,2]]\n",
    "X = np.array([[1, 1], \n",
    "    [2,1],\n",
    "    [2,2],\n",
    "    [3,2]])\n",
    "x = [1,2,2,3]\n",
    "y =[1,1,2,2]"
   ]
  },
  {
   "cell_type": "code",
   "execution_count": 4,
   "metadata": {},
   "outputs": [
    {
     "data": {
      "text/plain": [
       "array([[1, 1],\n",
       "       [2, 1],\n",
       "       [2, 2],\n",
       "       [3, 2]])"
      ]
     },
     "execution_count": 4,
     "metadata": {},
     "output_type": "execute_result"
    }
   ],
   "source": [
    "X"
   ]
  },
  {
   "cell_type": "code",
   "execution_count": 5,
   "metadata": {},
   "outputs": [
    {
     "data": {
      "text/plain": [
       "<matplotlib.collections.PathCollection at 0x14d2fe6a278>"
      ]
     },
     "execution_count": 5,
     "metadata": {},
     "output_type": "execute_result"
    },
    {
     "data": {
      "image/png": "[encoded data removed]",
      "text/plain": [
       "<Figure size 432x288 with 1 Axes>"
      ]
     },
     "metadata": {
      "needs_background": "light"
     },
     "output_type": "display_data"
    }
   ],
   "source": [
    "plt.scatter(x, y)"
   ]
  },
  {
   "cell_type": "code",
   "execution_count": 6,
   "metadata": {},
   "outputs": [],
   "source": [
    "#axis = 0 means along the column and axis = 1 means working along the row\n",
    "xbar = np.mean(X, axis=0)"
   ]
  },
  {
   "cell_type": "code",
   "execution_count": 7,
   "metadata": {},
   "outputs": [
    {
     "data": {
      "text/plain": [
       "array([2. , 1.5])"
      ]
     },
     "execution_count": 7,
     "metadata": {},
     "output_type": "execute_result"
    }
   ],
   "source": [
    "#mean\n",
    "xbar"
   ]
  },
  {
   "cell_type": "code",
   "execution_count": 8,
   "metadata": {},
   "outputs": [
    {
     "data": {
      "text/plain": [
       "(2,)"
      ]
     },
     "execution_count": 8,
     "metadata": {},
     "output_type": "execute_result"
    }
   ],
   "source": [
    "xbar.shape"
   ]
  },
  {
   "cell_type": "code",
   "execution_count": 11,
   "metadata": {},
   "outputs": [],
   "source": [
    "#mean subtracted data\n",
    "#The shape attribute for numpy arrays returns the dimensions of the array. If Y has n rows and m columns, then Y.shape is (n,m). So Y.shape[0] is n.\n",
    "# Use a loop to subtract the mean from each row\n",
    "\n",
    "for i in range(4):  # iterate over rows\n",
    "    x[i] = x[i] - xbar[0]\n",
    "    y[i] = y[i] - xbar[1]\n",
    "    \n",
    "# The rows now have very near 0 mean\n",
    "\n",
    "\n",
    "\n",
    "#for i in range(X.shape[0]): \n",
    "\n"
   ]
  },
  {
   "cell_type": "code",
   "execution_count": 14,
   "metadata": {},
   "outputs": [
    {
     "name": "stdout",
     "output_type": "stream",
     "text": [
      "[-1.0, 0.0, 0.0, 1.0]\n",
      "[-0.5, -0.5, 0.5, 0.5]\n"
     ]
    }
   ],
   "source": [
    "print(x)\n",
    "print(y)"
   ]
  },
  {
   "cell_type": "code",
   "execution_count": 15,
   "metadata": {},
   "outputs": [
    {
     "data": {
      "text/plain": [
       "<matplotlib.collections.PathCollection at 0x14d2ff71550>"
      ]
     },
     "execution_count": 15,
     "metadata": {},
     "output_type": "execute_result"
    },
    {
     "data": {
      "image/png": "[encoded data removed]",
      "text/plain": [
       "<Figure size 432x288 with 1 Axes>"
      ]
     },
     "metadata": {
      "needs_background": "light"
     },
     "output_type": "display_data"
    }
   ],
   "source": [
    "#plot of mean subtracted data\n",
    "plt.scatter(x, y)\n"
   ]
  },
  {
   "cell_type": "code",
   "execution_count": 21,
   "metadata": {},
   "outputs": [],
   "source": [
    "Y =[]\n",
    "for i in range(0,len(x)):\n",
    "    Y.append([x[i],y[i]])\n",
    "    \n",
    "    \n"
   ]
  },
  {
   "cell_type": "code",
   "execution_count": 22,
   "metadata": {},
   "outputs": [
    {
     "data": {
      "text/plain": [
       "[[-1.0, -0.5], [0.0, -0.5], [0.0, 0.5], [1.0, 0.5]]"
      ]
     },
     "execution_count": 22,
     "metadata": {},
     "output_type": "execute_result"
    }
   ],
   "source": [
    "Y"
   ]
  },
  {
   "cell_type": "code",
   "execution_count": 23,
   "metadata": {},
   "outputs": [
    {
     "name": "stdout",
     "output_type": "stream",
     "text": [
      "Result matrix is\n",
      "[[-1.0, 0.0, 0.0, 1.0], [-0.5, -0.5, 0.5, 0.5]]\n"
     ]
    }
   ],
   "source": [
    "# Python3 Program to find \n",
    "# transpose of a matrix \n",
    "  \n",
    "M = 4\n",
    "N = 2\n",
    "  \n",
    "# This function stores \n",
    "# transpose of A[][] in B[][] \n",
    "  \n",
    "def transpose(Y, Yt): \n",
    "  \n",
    "    for i in range(N): \n",
    "        for j in range(M): \n",
    "            Yt[i][j] = Y[j][i] \n",
    "  \n",
    "# driver code \n",
    "\n",
    "  \n",
    "# To store result \n",
    "Yt = [[0 for x in range(M)] for y in range(N)]  \n",
    "  \n",
    "transpose(Y, Yt) \n",
    "  \n",
    "print(\"Result matrix is\") \n",
    "print(Yt)"
   ]
  },
  {
   "cell_type": "code",
   "execution_count": 24,
   "metadata": {},
   "outputs": [
    {
     "name": "stdout",
     "output_type": "stream",
     "text": [
      "[1.25, 0.25, -0.25, -1.25]\n",
      "[0.25, 0.25, -0.25, -0.25]\n",
      "[-0.25, -0.25, 0.25, 0.25]\n",
      "[-1.25, -0.25, 0.25, 1.25]\n"
     ]
    }
   ],
   "source": [
    "#YYt:\n",
    "\n",
    "result = [[0,0,0,0],  \n",
    "               [0,0,0,0],  \n",
    "              [0,0,0,0],\n",
    "         [0,0,0,0]]  \n",
    " \n",
    "# iterate through rows of X  \n",
    "for i in range(len(Y)):  \n",
    "   for j in range(len(Yt[0])):  \n",
    "       for k in range(len(Yt)):  \n",
    "           result[i][j] += Y[i][k] * Yt[k][j]  \n",
    "for r in result:  \n",
    "   print(r)  \n"
   ]
  },
  {
   "cell_type": "code",
   "execution_count": null,
   "metadata": {},
   "outputs": [],
   "source": []
  }
 ],
 "metadata": {
  "kernelspec": {
   "display_name": "Python 3",
   "language": "python",
   "name": "python3"
  },
  "language_info": {
   "codemirror_mode": {
    "name": "ipython",
    "version": 3
   },
   "file_extension": ".py",
   "mimetype": "text/x-python",
   "name": "python",
   "nbconvert_exporter": "python",
   "pygments_lexer": "ipython3",
   "version": "3.7.2rc1"
  }
 },
 "nbformat": 4,
 "nbformat_minor": 2
}
